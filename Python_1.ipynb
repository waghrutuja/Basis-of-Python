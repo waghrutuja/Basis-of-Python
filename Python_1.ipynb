{
  "nbformat": 4,
  "nbformat_minor": 0,
  "metadata": {
    "colab": {
      "name": "Python_1",
      "provenance": []
    },
    "kernelspec": {
      "name": "python3",
      "display_name": "Python 3"
    },
    "language_info": {
      "name": "python"
    }
  },
  "cells": [
    {
      "cell_type": "code",
      "execution_count": 1,
      "metadata": {
        "colab": {
          "base_uri": "https://localhost:8080/"
        },
        "id": "OxQaerXG-XJl",
        "outputId": "88907666-9176-41a3-8e90-1c29b4374ebe"
      },
      "outputs": [
        {
          "output_type": "stream",
          "name": "stdout",
          "text": [
            "Name : Rutuja Deepak Wagh\n",
            "City : Pune\n",
            "a : 9157\n",
            "b : 4\n"
          ]
        }
      ],
      "source": [
        "Name=\"Rutuja Deepak Wagh\"\n",
        "City=\"Pune\"\n",
        "a=9157\n",
        "b=4\n",
        "print(\"Name :\",Name)\n",
        "print(\"City :\",City)\n",
        "print(\"a :\",a)\n",
        "print(\"b :\",b)"
      ]
    },
    {
      "cell_type": "code",
      "source": [
        "x,y=123,456\n",
        "print(\"Addition :\",x+y)\n",
        "print(\"Subtraction :\",x-y)\n",
        "print(\"Multiplication :\",x*y)\n",
        "print(\"Division :\",x/y)\n",
        "print(\"Power :\",x**y)\n",
        "print(\"Modulus :\",x%y)\n",
        "print(\"Floor Division :\",x//y)"
      ],
      "metadata": {
        "colab": {
          "base_uri": "https://localhost:8080/"
        },
        "id": "f5i_mW4JA-7I",
        "outputId": "074b2f17-db58-4fcb-da45-292566630259"
      },
      "execution_count": 2,
      "outputs": [
        {
          "output_type": "stream",
          "name": "stdout",
          "text": [
            "Addition : 579\n",
            "Subtraction : -333\n",
            "Multiplication : 56088\n",
            "Division : 0.26973684210526316\n",
            "Power : 99250068772098856700831462057469632637295940819886900519816298881382867104749399077921128661426144638055424236936271872492800352741649902118143819672601569998100120790496759517636465445895625741609866209900500198407153244604778968016963028050310261417615914468729918240685487878617645976939063464357986165711730976399478507649228686341466967167910126653342134942744851463899927487092486610977146112763567101672645953132196481439339873017088140414661271198500333255713096142335151414630651683065518784081203678487703002802082091236603519026256880624499681781387227574035484831271515683123742149095569260463609655977700938844580611931246495166208695540313698140011638027322566252689780838136351828795314272162111222231170901715612355701347552371530013693855379834865667060014643302459100429783653966913783002290784283455628283355470529932956051484477129333881159930212758687602795088579230431661696010232187390436601614145603241902386663442520160735566561\n",
            "Modulus : 123\n",
            "Floor Division : 0\n"
          ]
        }
      ]
    },
    {
      "cell_type": "code",
      "source": [
        ""
      ],
      "metadata": {
        "id": "tsw0OsWVFLHI"
      },
      "execution_count": 5,
      "outputs": []
    },
    {
      "cell_type": "code",
      "source": [
        "10//2"
      ],
      "metadata": {
        "colab": {
          "base_uri": "https://localhost:8080/"
        },
        "id": "fMMocfJYCxFA",
        "outputId": "a3b2fc04-95b0-4168-fdbe-98a20d87d33d"
      },
      "execution_count": 3,
      "outputs": [
        {
          "output_type": "execute_result",
          "data": {
            "text/plain": [
              "5"
            ]
          },
          "metadata": {},
          "execution_count": 3
        }
      ]
    },
    {
      "cell_type": "code",
      "source": [
        "10%2"
      ],
      "metadata": {
        "colab": {
          "base_uri": "https://localhost:8080/"
        },
        "id": "3cDFFjFeCzGj",
        "outputId": "2e4503fd-3093-4a02-f2c0-acc12eca9486"
      },
      "execution_count": 4,
      "outputs": [
        {
          "output_type": "execute_result",
          "data": {
            "text/plain": [
              "0"
            ]
          },
          "metadata": {},
          "execution_count": 4
        }
      ]
    }
  ]
}