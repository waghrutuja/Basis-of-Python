{
  "nbformat": 4,
  "nbformat_minor": 0,
  "metadata": {
    "colab": {
      "name": "Python_2",
      "provenance": []
    },
    "kernelspec": {
      "name": "python3",
      "display_name": "Python 3"
    },
    "language_info": {
      "name": "python"
    }
  },
  "cells": [
    {
      "cell_type": "code",
      "execution_count": 3,
      "metadata": {
        "colab": {
          "base_uri": "https://localhost:8080/",
          "height": 35
        },
        "id": "YDsi90KNcDTg",
        "outputId": "b0afea0e-1236-40bc-baf0-5975466733f2"
      },
      "outputs": [
        {
          "output_type": "execute_result",
          "data": {
            "text/plain": [
              "'Rutuja wagh'"
            ],
            "application/vnd.google.colaboratory.intrinsic+json": {
              "type": "string"
            }
          },
          "metadata": {},
          "execution_count": 3
        }
      ],
      "source": [
        "Name=\"Rutuja\"\n",
        "Sirname=\"wagh\"\n",
        "Name+\" \"+Sirname"
      ]
    },
    {
      "cell_type": "code",
      "source": [
        "a=2.3\n",
        "b=312\n",
        "c=3j\n",
        "print(type(a))\n",
        "print(type(b))\n",
        "print(type(c))\n",
        "print(int(a))\n",
        "print(float(312))\n",
        "print(complex(a))\n",
        "print(complex(b))"
      ],
      "metadata": {
        "colab": {
          "base_uri": "https://localhost:8080/"
        },
        "id": "hmd1hw-1dHv9",
        "outputId": "b66fe9aa-df39-49e8-8c76-5860ef56b753"
      },
      "execution_count": 7,
      "outputs": [
        {
          "output_type": "stream",
          "name": "stdout",
          "text": [
            "<class 'float'>\n",
            "<class 'int'>\n",
            "<class 'complex'>\n",
            "2\n",
            "312.0\n",
            "(2.3+0j)\n",
            "(312+0j)\n"
          ]
        }
      ]
    },
    {
      "cell_type": "code",
      "source": [
        "Name=input()\n",
        "Age=input()\n",
        "Class=\"TYBSc\"\n",
        "College=\"S P College\"\n",
        "\"My name is {} and I'm {} years old.I study in {} in {}\".format(Name,Age,Class,College)"
      ],
      "metadata": {
        "id": "mhdtUAI0d399",
        "outputId": "4b3c710a-5680-4abd-d058-fe2e25e50811",
        "colab": {
          "base_uri": "https://localhost:8080/",
          "height": 70
        }
      },
      "execution_count": 8,
      "outputs": [
        {
          "name": "stdout",
          "output_type": "stream",
          "text": [
            "Rutuja\n",
            "21\n"
          ]
        },
        {
          "output_type": "execute_result",
          "data": {
            "text/plain": [
              "\"My name is Rutuja and I'm 21 years old.I study in TYBSc in S P College\""
            ],
            "application/vnd.google.colaboratory.intrinsic+json": {
              "type": "string"
            }
          },
          "metadata": {},
          "execution_count": 8
        }
      ]
    },
    {
      "cell_type": "code",
      "source": [
        "quantity=3\n",
        "item=\"bread\"\n",
        "price=5\n",
        "country=\"Indian\"\n",
        "myorder=\"I want {a} pieces of {b} for {c} rupees.Rupees is {d} currency.\"\n",
        "print(myorder.format(b=item,c=price,a=quantity,d=country))"
      ],
      "metadata": {
        "id": "iNni__6bmVoq",
        "outputId": "49963c0a-f627-4cbf-f6f9-d110c3cbe99b",
        "colab": {
          "base_uri": "https://localhost:8080/"
        }
      },
      "execution_count": 11,
      "outputs": [
        {
          "output_type": "stream",
          "name": "stdout",
          "text": [
            "I want 3 pieces of bread for 5 rupees.Rupees is Indian currency.\n"
          ]
        }
      ]
    }
  ]
}